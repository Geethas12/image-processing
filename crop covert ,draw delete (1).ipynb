{
 "cells": [
  {
   "cell_type": "code",
   "execution_count": 1,
   "id": "01747f36",
   "metadata": {},
   "outputs": [
    {
     "name": "stdout",
     "output_type": "stream",
     "text": [
      "image converted sucess\n"
     ]
    }
   ],
   "source": [
    "#coverting image from one formato another\n",
    "from PIL import Image\n",
    "im = Image.open('ing.png')\n",
    "im.convert ('RGB').save('ing.jpg')\n",
    "print('image converted sucess')"
   ]
  },
  {
   "cell_type": "code",
   "execution_count": 2,
   "id": "893e5acd",
   "metadata": {},
   "outputs": [
    {
     "ename": "NameError",
     "evalue": "name 'image' is not defined",
     "output_type": "error",
     "traceback": [
      "\u001b[1;31m---------------------------------------------------------------------------\u001b[0m",
      "\u001b[1;31mNameError\u001b[0m                                 Traceback (most recent call last)",
      "\u001b[1;32m~\\AppData\\Local\\Temp/ipykernel_3348/3154444929.py\u001b[0m in \u001b[0;36m<module>\u001b[1;34m\u001b[0m\n\u001b[0;32m      1\u001b[0m \u001b[0mim\u001b[0m \u001b[1;33m=\u001b[0m \u001b[0mImage\u001b[0m\u001b[1;33m.\u001b[0m\u001b[0mopen\u001b[0m\u001b[1;33m(\u001b[0m\u001b[1;34m'ing.png'\u001b[0m\u001b[1;33m)\u001b[0m\u001b[1;33m\u001b[0m\u001b[1;33m\u001b[0m\u001b[0m\n\u001b[1;32m----> 2\u001b[1;33m \u001b[0mprint\u001b[0m\u001b[1;33m(\u001b[0m\u001b[0mimage\u001b[0m\u001b[1;33m.\u001b[0m\u001b[0mmode\u001b[0m\u001b[1;33m)\u001b[0m\u001b[1;33m\u001b[0m\u001b[1;33m\u001b[0m\u001b[0m\n\u001b[0m",
      "\u001b[1;31mNameError\u001b[0m: name 'image' is not defined"
     ]
    }
   ],
   "source": [
    "im = Image.open('ing.png')\n",
    "print(image.mode)"
   ]
  },
  {
   "cell_type": "code",
   "execution_count": null,
   "id": "0ed07021",
   "metadata": {},
   "outputs": [],
   "source": [
    "import cv2\n",
    "from PIL import Image\n",
    "doggo=Image.open('ing.png')\n",
    "doggo.imshow(doggo);\n",
    "import matplotlib.pyplot as plt\n",
    "fig, ax=plt.subplots(1, 3, figsize=(12,4), sharey =True)\n",
    "ax[0].imshow(doggo[:,:,0], cmap= \"Reds\")\n",
    "ax[0].set_title('Red')\n",
    "ax[1].imshow(doggo[:,:,1], cmap= \"Greens\")\n",
    "ax[1].set_title('Green')\n",
    "ax[2].imshow(doggo[:,:,2], cmap= \"Blues\")\n",
    "ax[2].set_title('Blue');\n"
   ]
  },
  {
   "cell_type": "code",
   "execution_count": 1,
   "id": "479e0b54",
   "metadata": {},
   "outputs": [
    {
     "ename": "NameError",
     "evalue": "name 'fill' is not defined",
     "output_type": "error",
     "traceback": [
      "\u001b[1;31m---------------------------------------------------------------------------\u001b[0m",
      "\u001b[1;31mNameError\u001b[0m                                 Traceback (most recent call last)",
      "\u001b[1;32m~\\AppData\\Local\\Temp/ipykernel_22876/1777897073.py\u001b[0m in \u001b[0;36m<module>\u001b[1;34m\u001b[0m\n\u001b[0;32m      2\u001b[0m \u001b[0mim\u001b[0m\u001b[1;33m=\u001b[0m\u001b[0mImage\u001b[0m\u001b[1;33m.\u001b[0m\u001b[0mopen\u001b[0m\u001b[1;33m(\u001b[0m\u001b[1;34m'ing.png'\u001b[0m\u001b[1;33m)\u001b[0m\u001b[1;33m\u001b[0m\u001b[1;33m\u001b[0m\u001b[0m\n\u001b[0;32m      3\u001b[0m \u001b[0mdraw\u001b[0m\u001b[1;33m=\u001b[0m\u001b[0mImageDraw\u001b[0m\u001b[1;33m.\u001b[0m\u001b[0mDraw\u001b[0m\u001b[1;33m(\u001b[0m\u001b[0mim\u001b[0m\u001b[1;33m)\u001b[0m\u001b[1;33m\u001b[0m\u001b[1;33m\u001b[0m\u001b[0m\n\u001b[1;32m----> 4\u001b[1;33m \u001b[0mdraw\u001b[0m\u001b[1;33m.\u001b[0m\u001b[0mellipse\u001b[0m\u001b[1;33m(\u001b[0m\u001b[1;33m(\u001b[0m\u001b[1;36m125\u001b[0m\u001b[1;33m,\u001b[0m\u001b[1;36m125\u001b[0m\u001b[1;33m,\u001b[0m\u001b[1;36m200\u001b[0m\u001b[1;33m,\u001b[0m\u001b[1;36m250\u001b[0m\u001b[1;33m)\u001b[0m\u001b[1;33m,\u001b[0m\u001b[0mfill\u001b[0m\u001b[1;33m(\u001b[0m\u001b[1;36m255\u001b[0m\u001b[1;33m,\u001b[0m\u001b[1;36m255\u001b[0m\u001b[1;33m,\u001b[0m\u001b[1;36m255\u001b[0m\u001b[1;33m,\u001b[0m\u001b[1;36m120\u001b[0m\u001b[1;33m)\u001b[0m\u001b[1;33m)\u001b[0m\u001b[1;33m\u001b[0m\u001b[1;33m\u001b[0m\u001b[0m\n\u001b[0m\u001b[0;32m      5\u001b[0m \u001b[1;32mdel\u001b[0m \u001b[0mdraw\u001b[0m\u001b[1;33m\u001b[0m\u001b[1;33m\u001b[0m\u001b[0m\n\u001b[0;32m      6\u001b[0m \u001b[0mim\u001b[0m\u001b[1;33m.\u001b[0m\u001b[0mshow\u001b[0m\u001b[1;33m(\u001b[0m\u001b[1;33m)\u001b[0m\u001b[1;33m\u001b[0m\u001b[1;33m\u001b[0m\u001b[0m\n",
      "\u001b[1;31mNameError\u001b[0m: name 'fill' is not defined"
     ]
    }
   ],
   "source": [
    "from PIL import Image, ImageDraw\n",
    "im=Image.open('ing.png')\n",
    "draw=ImageDraw.Draw(im)\n",
    "draw.ellipse((125,125,200,250),fill(255,255,255,120))\n",
    "del draw\n",
    "im.show()"
   ]
  },
  {
   "cell_type": "code",
   "execution_count": null,
   "id": "7417c4f2",
   "metadata": {},
   "outputs": [],
   "source": [
    "import numpy as np\n",
    "import matplotlib.pyplot as plt\n",
    "img = np.array(Image.open('ing.png'))\n",
    "img_R, img_G, img_B = img.copy(), img.copy(), img.copy()\n",
    "img_R[:, :, (1, 2)] = 0\n",
    "img_G[:, :, (0, 2)] = 0\n",
    "img_B[:, :, (0, 1)] = 0\n",
    "img_rgb = np.concatenate((img_R,img_G,img_B), axis=1)\n",
    "plt.figure(figsize=(15, 15))\n",
    "plt.imshow(img_rgb)"
   ]
  },
  {
   "cell_type": "code",
   "execution_count": null,
   "id": "69f3cfa6",
   "metadata": {},
   "outputs": [],
   "source": [
    "#slicing\n",
    "\n",
    "fig, ax=plt.subplots(1,3,figsize=(6,4), sharey = True)\n",
    "ax[0].imshow(doggo[:, 0:130])\n",
    "ax[0].set_title('First split')\n",
    "\n",
    "ax[1].imshow(doggo[:, 130:260])\n",
    "ax[1].set_title('First split')\n",
    "\n",
    "ax[2].imshow(doggo[:, 260:390])\n",
    "ax[2].set_title('First split');\n"
   ]
  },
  {
   "cell_type": "code",
   "execution_count": 1,
   "id": "d5a08964",
   "metadata": {},
   "outputs": [
    {
     "ename": "ValueError",
     "evalue": "image has wrong mode",
     "output_type": "error",
     "traceback": [
      "\u001b[1;31m---------------------------------------------------------------------------\u001b[0m",
      "\u001b[1;31mValueError\u001b[0m                                Traceback (most recent call last)",
      "\u001b[1;32m~\\AppData\\Local\\Temp/ipykernel_18004/1883452071.py\u001b[0m in \u001b[0;36m<module>\u001b[1;34m\u001b[0m\n\u001b[0;32m      3\u001b[0m \u001b[0mimg1\u001b[0m\u001b[1;33m=\u001b[0m\u001b[0mImage\u001b[0m\u001b[1;33m.\u001b[0m\u001b[0mopen\u001b[0m\u001b[1;33m(\u001b[0m\u001b[1;34m'star.png'\u001b[0m\u001b[1;33m)\u001b[0m\u001b[1;33m\u001b[0m\u001b[1;33m\u001b[0m\u001b[0m\n\u001b[0;32m      4\u001b[0m \u001b[0mimg2\u001b[0m\u001b[1;33m=\u001b[0m\u001b[0mImage\u001b[0m\u001b[1;33m.\u001b[0m\u001b[0mopen\u001b[0m\u001b[1;33m(\u001b[0m\u001b[1;34m'b.png'\u001b[0m\u001b[1;33m)\u001b[0m\u001b[1;33m\u001b[0m\u001b[1;33m\u001b[0m\u001b[0m\n\u001b[1;32m----> 5\u001b[1;33m \u001b[0malpha1\u001b[0m\u001b[1;33m=\u001b[0m\u001b[0mImage\u001b[0m\u001b[1;33m.\u001b[0m\u001b[0mblend\u001b[0m\u001b[1;33m(\u001b[0m\u001b[0mimg1\u001b[0m\u001b[1;33m,\u001b[0m\u001b[0mimg2\u001b[0m\u001b[1;33m,\u001b[0m\u001b[0malpha\u001b[0m\u001b[1;33m=\u001b[0m\u001b[1;36m.4\u001b[0m\u001b[1;33m)\u001b[0m\u001b[1;33m\u001b[0m\u001b[1;33m\u001b[0m\u001b[0m\n\u001b[0m\u001b[0;32m      6\u001b[0m \u001b[0malpha2\u001b[0m\u001b[1;33m=\u001b[0m\u001b[0mImage\u001b[0m\u001b[1;33m.\u001b[0m\u001b[0mblend\u001b[0m\u001b[1;33m(\u001b[0m\u001b[0mimg1\u001b[0m\u001b[1;33m,\u001b[0m\u001b[0mimg2\u001b[0m\u001b[1;33m,\u001b[0m\u001b[0malpha\u001b[0m\u001b[1;33m=\u001b[0m\u001b[1;36m.2\u001b[0m\u001b[1;33m)\u001b[0m\u001b[1;33m\u001b[0m\u001b[1;33m\u001b[0m\u001b[0m\n\u001b[0;32m      7\u001b[0m \u001b[0malpha1\u001b[0m\u001b[1;33m.\u001b[0m\u001b[0mshow\u001b[0m\u001b[1;33m(\u001b[0m\u001b[1;33m)\u001b[0m\u001b[1;33m\u001b[0m\u001b[1;33m\u001b[0m\u001b[0m\n",
      "\u001b[1;32m~\\anaconda3\\lib\\site-packages\\PIL\\Image.py\u001b[0m in \u001b[0;36mblend\u001b[1;34m(im1, im2, alpha)\u001b[0m\n\u001b[0;32m   3228\u001b[0m     \u001b[0mim1\u001b[0m\u001b[1;33m.\u001b[0m\u001b[0mload\u001b[0m\u001b[1;33m(\u001b[0m\u001b[1;33m)\u001b[0m\u001b[1;33m\u001b[0m\u001b[1;33m\u001b[0m\u001b[0m\n\u001b[0;32m   3229\u001b[0m     \u001b[0mim2\u001b[0m\u001b[1;33m.\u001b[0m\u001b[0mload\u001b[0m\u001b[1;33m(\u001b[0m\u001b[1;33m)\u001b[0m\u001b[1;33m\u001b[0m\u001b[1;33m\u001b[0m\u001b[0m\n\u001b[1;32m-> 3230\u001b[1;33m     \u001b[1;32mreturn\u001b[0m \u001b[0mim1\u001b[0m\u001b[1;33m.\u001b[0m\u001b[0m_new\u001b[0m\u001b[1;33m(\u001b[0m\u001b[0mcore\u001b[0m\u001b[1;33m.\u001b[0m\u001b[0mblend\u001b[0m\u001b[1;33m(\u001b[0m\u001b[0mim1\u001b[0m\u001b[1;33m.\u001b[0m\u001b[0mim\u001b[0m\u001b[1;33m,\u001b[0m \u001b[0mim2\u001b[0m\u001b[1;33m.\u001b[0m\u001b[0mim\u001b[0m\u001b[1;33m,\u001b[0m \u001b[0malpha\u001b[0m\u001b[1;33m)\u001b[0m\u001b[1;33m)\u001b[0m\u001b[1;33m\u001b[0m\u001b[1;33m\u001b[0m\u001b[0m\n\u001b[0m\u001b[0;32m   3231\u001b[0m \u001b[1;33m\u001b[0m\u001b[0m\n\u001b[0;32m   3232\u001b[0m \u001b[1;33m\u001b[0m\u001b[0m\n",
      "\u001b[1;31mValueError\u001b[0m: image has wrong mode"
     ]
    }
   ],
   "source": [
    "#blending\n",
    "from PIL import Image\n",
    "img1=Image.open('star.png')\n",
    "img2=Image.open('b.png')\n",
    "alpha1=Image.blend(img1,img2,alpha=.4)\n",
    "alpha2=Image.blend(img1,img2,alpha=.2)\n",
    "alpha1.show()\n",
    "alpha2.show()"
   ]
  },
  {
   "cell_type": "code",
   "execution_count": null,
   "id": "e5406666",
   "metadata": {},
   "outputs": [],
   "source": [
    "#histogram\n",
    "im=Image.open('ing.png')\n",
    "pl=im.histogram()\n",
    "plt.bar(range(256),pl[:256], color='r', alpha=0.5)\n",
    "plt.bar(range(256),pl[256:2*256], color='g', alpha=0.4)\n",
    "plt.bar(range(256),pl[2*256:], color='b', alpha=0.3)\n",
    "plt.show()"
   ]
  },
  {
   "cell_type": "code",
   "execution_count": null,
   "id": "06d00622",
   "metadata": {},
   "outputs": [],
   "source": [
    "ch_r,ch_g,ch_b=im.split()\n",
    "plt.figure(figsize=(18,6))\n",
    "plt.subplot(1,3,1); plt.imshow(ch_r, cmap=plt.cm.Reds);plt.axis('off')\n",
    "plt.subplot(1,3,2); plt.imshow(ch_g, cmap=plt.cm.Greens);plt.axis('off')\n",
    "plt.subplot(1,3,3); plt.imshow(ch_b, cmap=plt.cm.Blues);plt.axis('off')     \n",
    "plt.tight_layout()\n",
    "plt.show()"
   ]
  },
  {
   "cell_type": "code",
   "execution_count": null,
   "id": "894f6909",
   "metadata": {},
   "outputs": [],
   "source": [
    "from PIL import Image,ImageDraw,ImageFont\n",
    "img =Image.open('ing.png')\n",
    "d1=ImageDraw.Draw(img)\n",
    "myFont =ImageFont.truetype('arial.ttf',40)\n",
    "d1.text((500,500),\"Sample text\", font=myFont, fill=(25,8,0))\n",
    "img.show()"
   ]
  },
  {
   "cell_type": "code",
   "execution_count": null,
   "id": "7cf2b6da",
   "metadata": {},
   "outputs": [],
   "source": [
    "#croped image\n",
    "cropped = im.crop((1,2,300,300))\n",
    "\n",
    "cropped.show()"
   ]
  },
  {
   "cell_type": "code",
   "execution_count": null,
   "id": "949c4cea",
   "metadata": {},
   "outputs": [],
   "source": [
    "converting \n",
    "from skimage.io import imshow, imread\n",
    "from PIL import Image\n",
    "doggo=imread('ing.png')\n",
    "imshow(doggo);\n",
    "import matplotlib.pyplot as plt\n",
    "fig, ax=plt.subplots(1, 3, figsize=(12,4), sharey =True)\n",
    "ax[0].imshow(doggo[:,:,0], cmap= \"Reds\")\n",
    "ax[0].set_title('Red')\n",
    "ax[1].imshow(doggo[:,:,1], cmap= \"Greens\")\n",
    "ax[1].set_title('Green')\n",
    "ax[2].imshow(doggo[:,:,2], cmap= \"Blues\")\n",
    "ax[2].set_title('Blue');\n"
   ]
  },
  {
   "cell_type": "code",
   "execution_count": 2,
   "id": "437bc1bd",
   "metadata": {},
   "outputs": [],
   "source": [
    "import PIL\n",
    "\n",
    "#negative transformation function\n",
    "def neg_trans(img):\n",
    "\n",
    "  #get width and height of image\n",
    "  width,height=img.size\n",
    "\n",
    "  #traverse through pixels\n",
    "  for x in range(width):\n",
    "    for y in range(height):\n",
    "\n",
    "      pixel_color=img.getpixel((x,y))\n",
    "\n",
    "      #if image is RGB, subtract individual RGB values\n",
    "      if type(pixel_color) == tuple: \n",
    "\n",
    "        #s=(L-1)-r\n",
    "        red_pixel=256-1-pixel_color[0]\n",
    "        green_pixel=256-1-pixel_color[1]\n",
    "        blue_pixel=256-1-pixel_color[2]\n",
    "\n",
    "        #replace the pixel \n",
    "        img.putpixel((x,y),(red_pixel,green_pixel,blue_pixel))\n",
    "      \n",
    "      #if image is greyscale, subtract pixel intensity\n",
    "      else:\n",
    "\n",
    "        #s=(L-1)-r\n",
    "        pixel_color=256-1-pixel_color \n",
    "\n",
    "        #replace the pixel\n",
    "        img.putpixel((x,y),pixel_color)\n",
    "  return img"
   ]
  },
  {
   "cell_type": "code",
   "execution_count": 7,
   "id": "3deec116",
   "metadata": {},
   "outputs": [],
   "source": [
    "#importing required libraries\n",
    "import numpy as np\n",
    "from pylab import imshow, show"
   ]
  },
  {
   "cell_type": "code",
   "execution_count": 8,
   "id": "3d22046e",
   "metadata": {},
   "outputs": [
    {
     "name": "stdout",
     "output_type": "stream",
     "text": [
      "[8.479988882712618]\n"
     ]
    }
   ],
   "source": [
    "from PIL import Image,ImageStat\n",
    "img=Image.open('ing2.png')\n",
    "stat1=ImageStat.Stat(img)\n",
    "print(stat1.mean)\n",
    "  "
   ]
  },
  {
   "cell_type": "code",
   "execution_count": 9,
   "id": "90ecd72a",
   "metadata": {},
   "outputs": [
    {
     "name": "stdout",
     "output_type": "stream",
     "text": [
      "[0]\n"
     ]
    }
   ],
   "source": [
    "print(stat1.median)"
   ]
  },
  {
   "cell_type": "code",
   "execution_count": 10,
   "id": "45358960",
   "metadata": {},
   "outputs": [
    {
     "name": "stdout",
     "output_type": "stream",
     "text": [
      "[22.516985316543806]\n"
     ]
    }
   ],
   "source": [
    "print(stat1.stddev)"
   ]
  },
  {
   "cell_type": "code",
   "execution_count": null,
   "id": "bc4259da",
   "metadata": {},
   "outputs": [],
   "source": []
  }
 ],
 "metadata": {
  "kernelspec": {
   "display_name": "Python 3 (ipykernel)",
   "language": "python",
   "name": "python3"
  },
  "language_info": {
   "codemirror_mode": {
    "name": "ipython",
    "version": 3
   },
   "file_extension": ".py",
   "mimetype": "text/x-python",
   "name": "python",
   "nbconvert_exporter": "python",
   "pygments_lexer": "ipython3",
   "version": "3.9.7"
  }
 },
 "nbformat": 4,
 "nbformat_minor": 5
}
